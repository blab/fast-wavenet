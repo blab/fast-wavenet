{
 "cells": [
  {
   "cell_type": "code",
   "execution_count": 1,
   "metadata": {},
   "outputs": [
    {
     "data": {
      "text/plain": [
       "'3.6.4 |Anaconda, Inc.| (default, Jan 16 2018, 12:04:33) \\n[GCC 4.2.1 Compatible Clang 4.0.1 (tags/RELEASE_401/final)]'"
      ]
     },
     "execution_count": 1,
     "metadata": {},
     "output_type": "execute_result"
    }
   ],
   "source": [
    "import sys\n",
    "sys.version"
   ]
  },
  {
   "cell_type": "code",
   "execution_count": 2,
   "metadata": {},
   "outputs": [],
   "source": [
    "# Import stuff that we will use\n",
    "import tensorflow as tf\n",
    "import pandas as pd\n",
    "import numpy as np\n",
    "import os\n",
    "import matplotlib\n",
    "import matplotlib.pyplot as plt\n",
    "import random\n",
    "%matplotlib inline\n",
    "import shutil\n",
    "import tensorflow.contrib.learn as tflearn\n",
    "import tensorflow.contrib.layers as tflayers\n",
    "from tensorflow.contrib.learn.python.learn import learn_runner\n",
    "import tensorflow.contrib.metrics as metrics\n",
    "import tensorflow.contrib.rnn as rnn"
   ]
  },
  {
   "cell_type": "code",
   "execution_count": 3,
   "metadata": {},
   "outputs": [
    {
     "data": {
      "text/plain": [
       "'1.1.0'"
      ]
     },
     "execution_count": 3,
     "metadata": {},
     "output_type": "execute_result"
    }
   ],
   "source": [
    "# TF Version\n",
    "tf.__version__"
   ]
  },
  {
   "cell_type": "code",
   "execution_count": 4,
   "metadata": {},
   "outputs": [
    {
     "data": {
      "image/png": "[encoded data removed]",
      "text/plain": [
       "<matplotlib.figure.Figure at 0x1818317898>"
      ]
     },
     "metadata": {},
     "output_type": "display_data"
    },
    {
     "data": {
      "text/plain": [
       "2000-01-31     1.201756\n",
       "2000-02-29    -8.059026\n",
       "2000-03-31    -0.965952\n",
       "2000-04-30     6.243186\n",
       "2000-05-31    13.527022\n",
       "2000-06-30    23.129515\n",
       "2000-07-31    17.653263\n",
       "2000-08-31    18.260201\n",
       "2000-09-30    22.119136\n",
       "2000-10-31    13.347066\n",
       "Freq: M, dtype: float64"
      ]
     },
     "execution_count": 4,
     "metadata": {},
     "output_type": "execute_result"
    },
    {
     "data": {
      "text/plain": [
       "<matplotlib.figure.Figure at 0x18217d9ba8>"
      ]
     },
     "metadata": {},
     "output_type": "display_data"
    }
   ],
   "source": [
    "# Generate a random TS\n",
    "random.seed(111)\n",
    "rng = pd.date_range(start='2000', periods=209, freq='M')\n",
    "ts = pd.Series(np.random.uniform(-10,10,size=len(rng)), rng).cumsum()\n",
    "ts.plot(c='b', title='Example Time Series')\n",
    "plt.show()\n",
    "plt.gcf().clear()\n",
    "ts.head(10)"
   ]
  },
  {
   "cell_type": "code",
   "execution_count": 5,
   "metadata": {},
   "outputs": [
    {
     "name": "stdout",
     "output_type": "stream",
     "text": [
      "10\n",
      "(10, 20, 1)\n",
      "[[[  1.20175592]\n",
      "  [ -8.05902623]\n",
      "  [ -0.96595223]\n",
      "  [  6.24318628]\n",
      "  [ 13.52702232]\n",
      "  [ 23.12951495]\n",
      "  [ 17.65326279]\n",
      "  [ 18.26020144]\n",
      "  [ 22.11913639]\n",
      "  [ 13.34706557]\n",
      "  [ 10.24244732]\n",
      "  [ 19.23356407]\n",
      "  [ 16.31360968]\n",
      "  [ 21.23938156]\n",
      "  [ 16.71175869]\n",
      "  [  9.09595249]\n",
      "  [  3.16208578]\n",
      "  [  5.67858431]\n",
      "  [ -1.56327251]\n",
      "  [  4.45970193]]\n",
      "\n",
      " [[ 12.75593673]\n",
      "  [  8.95773673]\n",
      "  [  9.5778482 ]\n",
      "  [  5.2320825 ]\n",
      "  [  3.74189242]\n",
      "  [ -1.52095932]\n",
      "  [  0.98263196]\n",
      "  [  0.47768733]\n",
      "  [  0.09839409]\n",
      "  [  1.97625588]\n",
      "  [  3.52757701]\n",
      "  [ -3.80669918]\n",
      "  [-12.70704582]\n",
      "  [ -9.19523832]\n",
      "  [-12.28794208]\n",
      "  [-11.61141992]\n",
      "  [ -8.15615796]\n",
      "  [-15.99151312]\n",
      "  [-17.3224781 ]\n",
      "  [ -9.13841643]]]\n",
      "[[[ -8.05902623]\n",
      "  [ -0.96595223]\n",
      "  [  6.24318628]\n",
      "  [ 13.52702232]\n",
      "  [ 23.12951495]\n",
      "  [ 17.65326279]\n",
      "  [ 18.26020144]\n",
      "  [ 22.11913639]\n",
      "  [ 13.34706557]\n",
      "  [ 10.24244732]\n",
      "  [ 19.23356407]\n",
      "  [ 16.31360968]\n",
      "  [ 21.23938156]\n",
      "  [ 16.71175869]\n",
      "  [  9.09595249]\n",
      "  [  3.16208578]\n",
      "  [  5.67858431]\n",
      "  [ -1.56327251]\n",
      "  [  4.45970193]\n",
      "  [ 12.75593673]]]\n",
      "(10, 20, 1)\n"
     ]
    }
   ],
   "source": [
    "TS = np.array(ts)\n",
    "num_periods = 20\n",
    "f_horizon = 1 # forecast horizon\n",
    "\n",
    "x_data = TS[:(len(TS)-(len(TS) % num_periods))]\n",
    "x_batches = x_data.reshape(-1,20,1)\n",
    "# -1 means that numpy will figure out that dimension's size dynamically\n",
    "\n",
    "y_data = TS[1:(len(TS)-(len(TS) % num_periods))+ f_horizon]\n",
    "y_batches = y_data.reshape(-1,20,1)\n",
    "print(len(x_batches))\n",
    "print(x_batches.shape)\n",
    "print(x_batches[0:2])\n",
    "\n",
    "print(y_batches[0:1])\n",
    "print(y_batches.shape)"
   ]
  },
  {
   "cell_type": "code",
   "execution_count": 6,
   "metadata": {},
   "outputs": [
    {
     "name": "stdout",
     "output_type": "stream",
     "text": [
      "(1, 20, 1)\n",
      "[[[ 19.54369223]\n",
      "  [ 28.44422456]\n",
      "  [ 27.31613472]\n",
      "  [ 23.12189929]\n",
      "  [ 22.60749176]\n",
      "  [ 23.06010139]\n",
      "  [ 26.12685208]\n",
      "  [ 21.73822059]\n",
      "  [ 30.06672018]\n",
      "  [ 37.090819  ]\n",
      "  [ 44.1297821 ]\n",
      "  [ 43.29436581]\n",
      "  [ 51.54840076]\n",
      "  [ 43.77129087]\n",
      "  [ 38.77552484]\n",
      "  [ 43.70593365]\n",
      "  [ 39.33205157]\n",
      "  [ 40.10947445]\n",
      "  [ 45.81527662]\n",
      "  [ 48.62989558]]]\n"
     ]
    }
   ],
   "source": [
    "def test_data(series, forecast, num_periods):\n",
    "    test_x_setup = series[-(num_periods + forecast):]\n",
    "    testX = test_x_setup[:num_periods].reshape(-1,20,1)\n",
    "    testY = series[-(num_periods):].reshape(-1,20,1)\n",
    "    return testX,testY\n",
    "X_test, Y_test = test_data(TS,f_horizon,num_periods)\n",
    "print(X_test.shape)\n",
    "print(X_test)"
   ]
  },
  {
   "cell_type": "code",
   "execution_count": 7,
   "metadata": {},
   "outputs": [],
   "source": [
    "tf.reset_default_graph()\n",
    "\n",
    "inputs = 1 # number of vectors submitted\n",
    "hidden = 100 # number of neurons we will recursively work through\n",
    "output = 1 # number of output vectors\n",
    "\n",
    "# create variable objects\n",
    "X = tf.placeholder(tf.float32, [None, num_periods, inputs])\n",
    "y = tf.placeholder(tf.float32, [None, num_periods, output])\n",
    "\n",
    "basic_cell = rnn.BasicRNNCell(num_units=hidden, activation=tf.nn.relu) #create a RNN object\n",
    "rnn_output, states = tf.nn.dynamic_rnn(basic_cell, X, dtype=tf.float32) \n",
    "\n",
    "learning_rate = 0.001\n",
    "\n",
    "stacked_rnn_output = tf.reshape(rnn_output, [-1, hidden]) # change the form into a tensor\n",
    "stacked_outputs = tf.layers.dense(stacked_rnn_output, output) # specify dense layers\n",
    "outputs = tf.reshape(stacked_outputs, [-1, num_periods, output]) # specify shape of results\n",
    "\n",
    "loss = tf.reduce_sum(tf.square(outputs-y)) # define loss function\n",
    "# if we are going to do a classification problem, this should be cross entropy\n",
    "optimizer = tf.train.AdamOptimizer(learning_rate=learning_rate) # gradient descent\n",
    "training_op = optimizer.minimize(loss) # train according to the loss function\n",
    "\n",
    "init = tf.global_variables_initializer() # init everything"
   ]
  },
  {
   "cell_type": "code",
   "execution_count": 8,
   "metadata": {},
   "outputs": [],
   "source": [
    "def train_model(num_epochs = 1000):\n",
    "    epochs = num_epochs # number of iterations or training cycles, includes both the FeedForward and backProp\n",
    "\n",
    "    with tf.Session() as sess:\n",
    "        init.run()\n",
    "        for ep in range(epochs):\n",
    "            sess.run(training_op, feed_dict={X: x_batches, y: y_batches})\n",
    "            # feed dict replaces placehoder with real numbers (well, tf.float32's, but you get the point)\n",
    "            if ep % (epochs / 10) == 0:\n",
    "                mse = loss.eval(feed_dict={X: x_batches, y: y_batches})\n",
    "                print(ep, \"\\tMSE:\", mse)\n",
    "\n",
    "        y_pred = sess.run(outputs, feed_dict={X: X_test})\n",
    "        print(y_pred)\n",
    "        return y_pred"
   ]
  },
  {
   "cell_type": "code",
   "execution_count": 9,
   "metadata": {},
   "outputs": [
    {
     "name": "stdout",
     "output_type": "stream",
     "text": [
      "0 \tMSE: 167205.0\n",
      "100 \tMSE: 8495.15\n",
      "200 \tMSE: 3309.1\n",
      "300 \tMSE: 1455.19\n",
      "400 \tMSE: 940.468\n",
      "500 \tMSE: 785.325\n",
      "600 \tMSE: 757.691\n",
      "700 \tMSE: 744.621\n",
      "800 \tMSE: 663.269\n",
      "900 \tMSE: 641.061\n",
      "[[[ 18.35085297]\n",
      "  [ 28.67871857]\n",
      "  [ 23.65476608]\n",
      "  [ 22.95035744]\n",
      "  [ 26.770504  ]\n",
      "  [ 17.16387939]\n",
      "  [ 27.33656693]\n",
      "  [ 19.73564148]\n",
      "  [ 32.83140945]\n",
      "  [ 38.77821732]\n",
      "  [ 42.32462692]\n",
      "  [ 51.80494308]\n",
      "  [ 54.34882355]\n",
      "  [ 40.33844376]\n",
      "  [ 37.51784515]\n",
      "  [ 35.91236115]\n",
      "  [ 47.28045273]\n",
      "  [ 52.97082901]\n",
      "  [ 54.89973068]\n",
      "  [ 31.72385979]]]\n"
     ]
    }
   ],
   "source": [
    "one_k_pred = train_model()"
   ]
  },
  {
   "cell_type": "code",
   "execution_count": 10,
   "metadata": {},
   "outputs": [
    {
     "data": {
      "image/png": "[encoded data removed]",
      "text/plain": [
       "<matplotlib.figure.Figure at 0x18217ce748>"
      ]
     },
     "metadata": {},
     "output_type": "display_data"
    },
    {
     "data": {
      "text/plain": [
       "<matplotlib.figure.Figure at 0x182172fd30>"
      ]
     },
     "metadata": {},
     "output_type": "display_data"
    }
   ],
   "source": [
    "plt.title(\"Forecast vs Actual\", fontsize=14)\n",
    "plt.plot(pd.Series(np.ravel(Y_test)), \"bo\", markersize=10, label=\"Actual\")\n",
    "plt.plot(pd.Series(np.ravel(one_k_pred)), \"r\", markersize=10, label=\"Forecast\")\n",
    "plt.legend(loc=\"upper left\")\n",
    "plt.xlabel(\"Time Periods\")\n",
    "\n",
    "plt.show()\n",
    "plt.gcf().clear()"
   ]
  },
  {
   "cell_type": "code",
   "execution_count": 11,
   "metadata": {},
   "outputs": [
    {
     "name": "stdout",
     "output_type": "stream",
     "text": [
      "0 \tMSE: 83936.1\n",
      "1000 \tMSE: 696.294\n",
      "2000 \tMSE: 1172.0\n",
      "3000 \tMSE: 255.689\n",
      "4000 \tMSE: 185.504\n",
      "5000 \tMSE: 151.557\n",
      "6000 \tMSE: 104.711\n",
      "7000 \tMSE: 81.7379\n",
      "8000 \tMSE: 76.6196\n",
      "9000 \tMSE: 73.923\n",
      "[[[ 15.39670753]\n",
      "  [ 23.11215401]\n",
      "  [ 15.44321918]\n",
      "  [ 27.62415504]\n",
      "  [ 21.89763832]\n",
      "  [ 16.23634911]\n",
      "  [ 30.34317207]\n",
      "  [ 17.19348335]\n",
      "  [ 36.54111862]\n",
      "  [ 34.11437607]\n",
      "  [ 46.42856216]\n",
      "  [ 46.40198135]\n",
      "  [ 47.80204773]\n",
      "  [ 41.19756699]\n",
      "  [ 40.17473984]\n",
      "  [ 46.57412338]\n",
      "  [ 35.29389954]\n",
      "  [ 41.55463791]\n",
      "  [ 46.45732498]\n",
      "  [ 49.22745895]]]\n"
     ]
    }
   ],
   "source": [
    "ten_k_pred = train_model(10000)"
   ]
  },
  {
   "cell_type": "code",
   "execution_count": 12,
   "metadata": {},
   "outputs": [
    {
     "data": {
      "image/png": "[encoded data removed]",
      "text/plain": [
       "<matplotlib.figure.Figure at 0x18217ce400>"
      ]
     },
     "metadata": {},
     "output_type": "display_data"
    },
    {
     "data": {
      "text/plain": [
       "<matplotlib.figure.Figure at 0x18218752b0>"
      ]
     },
     "metadata": {},
     "output_type": "display_data"
    }
   ],
   "source": [
    "plt.title(\"Forecast vs Actual 10k epochs\", fontsize=14)\n",
    "plt.plot(pd.Series(np.ravel(Y_test)), \"bo\", markersize=10, label=\"Actual\")\n",
    "plt.plot(pd.Series(np.ravel(ten_k_pred)), \"r\", markersize=10, label=\"Forecast\")\n",
    "plt.legend(loc=\"upper left\")\n",
    "plt.xlabel(\"Time Periods\")\n",
    "\n",
    "plt.show()\n",
    "plt.gcf().clear()"
   ]
  },
  {
   "cell_type": "code",
   "execution_count": null,
   "metadata": {},
   "outputs": [],
   "source": []
  }
 ],
 "metadata": {
  "kernelspec": {
   "display_name": "Python [conda env:deeptimeseries]",
   "language": "python",
   "name": "conda-env-deeptimeseries-py"
  },
  "language_info": {
   "codemirror_mode": {
    "name": "ipython",
    "version": 3
   },
   "file_extension": ".py",
   "mimetype": "text/x-python",
   "name": "python",
   "nbconvert_exporter": "python",
   "pygments_lexer": "ipython3",
   "version": "3.6.4"
  }
 },
 "nbformat": 4,
 "nbformat_minor": 2
}
